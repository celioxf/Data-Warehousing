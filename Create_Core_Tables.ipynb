{
 "cells": [
  {
   "cell_type": "markdown",
   "id": "69981868",
   "metadata": {},
   "source": [
    "# Olist Create Core Tables"
   ]
  },
  {
   "cell_type": "markdown",
   "id": "72b2df70",
   "metadata": {},
   "source": [
    "# Dim Customer"
   ]
  },
  {
   "cell_type": "code",
   "execution_count": 3,
   "id": "e62ed7a8",
   "metadata": {},
   "outputs": [
    {
     "name": "stderr",
     "output_type": "stream",
     "text": [
      "UsageError: Cell magic `%%sql` not found.\n"
     ]
    }
   ],
   "source": [
    "CREATE TABLE core.dim_customer(\n",
    "  dwh_customer_id INTEGER IDENTITY(1,1),\n",
    "  customer_id VARCHAR PRIMARY KEY,\n",
    "  customer_city VARCHAR,\n",
    "  customer_state VARCHAR,\n",
    "  customer_zip_code_prefix INTEGER,\n",
    "  customer_geolocation_lat DECIMAL,\n",
    "  customer_geolocation_lng DECIMAL,\n",
    "  creation_timestamp TIMESTAMP DEFAULT GETDATE());"
   ]
  },
  {
   "cell_type": "markdown",
   "id": "11bdbfe0",
   "metadata": {},
   "source": [
    "# Dim Product"
   ]
  },
  {
   "cell_type": "code",
   "execution_count": 4,
   "id": "59625d69",
   "metadata": {},
   "outputs": [
    {
     "name": "stderr",
     "output_type": "stream",
     "text": [
      "UsageError: Cell magic `%%sql` not found.\n"
     ]
    }
   ],
   "source": [
    "%%sql\n",
    "CREATE TABLE core.dim_product(\n",
    "   dwh_product_id INTEGER IDENTITY(1,1),\n",
    "   product_id VARCHAR PRIMARY KEY,\n",
    "   product_category VARCHAR,\n",
    "   product_category_english VARCHAR,\n",
    "   creation_timestamp TIMESTAMP DEFAULT GETDATE());"
   ]
  },
  {
   "cell_type": "markdown",
   "id": "7ec2fbb5",
   "metadata": {},
   "source": [
    "# Dim Seller"
   ]
  },
  {
   "cell_type": "code",
   "execution_count": 5,
   "id": "6d8b1b5f",
   "metadata": {},
   "outputs": [
    {
     "name": "stderr",
     "output_type": "stream",
     "text": [
      "UsageError: Cell magic `%%sql` not found.\n"
     ]
    }
   ],
   "source": [
    "%%sql\n",
    "CREATE TABLE core.dim_seller(\n",
    "   dwh_seller_id INTEGER IDENTITY(1,1),\n",
    "   seller_id VARCHAR PRIMARY KEY,\n",
    "   seller_city VARCHAR,\n",
    "   seller_state VARCHAR,\n",
    "   seller_zip_code_prefix VARCHAR,\n",
    "   seller_geolocation_lon DECIMAL,\n",
    "   seller_geolocation_lat DECIMAL,\n",
    "   creation_timestamp TIMESTAMP DEFAULT GETDATE());"
   ]
  },
  {
   "cell_type": "markdown",
   "id": "1bd93bf5",
   "metadata": {},
   "source": [
    "# Dim Date"
   ]
  },
  {
   "cell_type": "code",
   "execution_count": 6,
   "id": "b5b8c12b",
   "metadata": {},
   "outputs": [
    {
     "name": "stderr",
     "output_type": "stream",
     "text": [
      "UsageError: Cell magic `%%sql` not found.\n"
     ]
    }
   ],
   "source": [
    "%%sql\n",
    "CREATE TABLE core.dim_date(\n",
    "  dwh_date_id INTEGER IDENTITY(1,1),\n",
    "    \"date\" DATE,\n",
    "    year INTEGER,\n",
    "    month INTEGER,\n",
    "    monthname VARCHAR,\n",
    "    day INTEGER,\n",
    "    dayofyear INTEGER,\n",
    "    weekdayname VARCHAR,\n",
    "    calendarweek INTEGER,\n",
    "    formatteddate VARCHAR,\n",
    "    quartal VARCHAR,\n",
    "    yearquartal VARCHAR,\n",
    "    yearmonth VARCHAR,\n",
    "    yearcalendarweek VARCHAR,\n",
    "    monthstart VARCHAR,\n",
    "    monthend DATE);"
   ]
  },
  {
   "cell_type": "markdown",
   "id": "58b8512d",
   "metadata": {},
   "source": [
    "# Dim Time"
   ]
  },
  {
   "cell_type": "code",
   "execution_count": 8,
   "id": "1bc8fd6a",
   "metadata": {},
   "outputs": [
    {
     "name": "stderr",
     "output_type": "stream",
     "text": [
      "UsageError: Cell magic `%%sql` not found.\n"
     ]
    }
   ],
   "source": [
    "%%sql\n",
    "CREATE TABLE core.dim_time(\n",
    "  dwh_time_id INTEGER IDENTITY(1,1),\n",
    "  timeofday VARCHAR,\n",
    "  hour INTEGER,\n",
    "  quarterhour VARCHAR,\n",
    "  minute INTEGER,\n",
    "  minute_of_Day INTEGER,\n",
    "  daytimename VARCHAR,\n",
    "  daynight VARCHAR);"
   ]
  },
  {
   "cell_type": "markdown",
   "id": "4b204832",
   "metadata": {},
   "source": [
    "# F_Orders\n"
   ]
  },
  {
   "cell_type": "code",
   "execution_count": 9,
   "id": "5d277fe0",
   "metadata": {},
   "outputs": [
    {
     "name": "stderr",
     "output_type": "stream",
     "text": [
      "UsageError: Cell magic `%%sql` not found.\n"
     ]
    }
   ],
   "source": [
    "%%sql\n",
    "CREATE TABLE core.f_orders(\n",
    "  dwh_order_id INTEGER IDENTITY(1,1),\n",
    "  dwh_order_date_id DATE distkey sortkey,\n",
    "  dwh_order_time_id VARCHAR,\n",
    "  order_id INTEGER,\n",
    "  dwh_product_id INTEGER,\n",
    "  dwh_seller_id INTEGER,\n",
    "  dwh_customer_id INTEGER,\n",
    "  order_product_price DECIMAL,\n",
    "  order_product_freight_value DECIMAL,\n",
    "  order_product_amount INTEGER,\n",
    "  dwh_run_timestamp TIMESTAMP);\n",
    "  \n",
    "  ALTER TABLE core.f_orders ADD CONSTRAINT fk_order_date_id FOREIGN KEY (dwh_date_id) references core.dim_date(dwh_date_id);\n",
    "  ALTER TABLE core.f_orders ADD CONSTRAINT fk_order_time_id FOREIGN KEY (dwh_order_time_id) references core.dim_time(dwh_time_id);\n",
    "  ALTER TABLE core.f_orders ADD CONSTRAINT fk_product_id FOREIGN KEY (dwh_product_id) references core.dim_product(dwh_product_id);\n",
    "  ALTER TABLE core.f_orders ADD CONSTRAINT fk_cusomter_id FOREIGN KEY (dwh_customer_id) references core.dim_customer(dwh_date_id);\n",
    "  ALTER TABLE core.f_orders ADD CONSTRAINT fk_seller_id FOREIGN KEY (dwh_seller_id) references core.dim_seller(dwh_seller_id);"
   ]
  }
 ],
 "metadata": {
  "kernelspec": {
   "display_name": "Python 3 (ipykernel)",
   "language": "python",
   "name": "python3"
  },
  "language_info": {
   "codemirror_mode": {
    "name": "ipython",
    "version": 3
   },
   "file_extension": ".py",
   "mimetype": "text/x-python",
   "name": "python",
   "nbconvert_exporter": "python",
   "pygments_lexer": "ipython3",
   "version": "3.8.5"
  }
 },
 "nbformat": 4,
 "nbformat_minor": 5
}
