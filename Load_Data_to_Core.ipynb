{
 "cells": [
  {
   "cell_type": "markdown",
   "id": "131f0135",
   "metadata": {},
   "source": [
    "# Load Data"
   ]
  },
  {
   "cell_type": "markdown",
   "id": "a4348509",
   "metadata": {},
   "source": [
    "# Dim Customer"
   ]
  },
  {
   "cell_type": "code",
   "execution_count": 1,
   "id": "c63a70c6",
   "metadata": {},
   "outputs": [
    {
     "name": "stderr",
     "output_type": "stream",
     "text": [
      "UsageError: Cell magic `%%sql` not found.\n"
     ]
    }
   ],
   "source": [
    "%%sql\n",
    "INSERT INTO core.dim_customer(\n",
    "  customer_id, customer_city, customer_state, customer_zip_code_prefix, customer_geolocation_lat, customer_geolocation_lng)\n",
    "  \n",
    "(SELECT customer_id, customer_city, customer_state, customer_zip_code_prefix, geolocation_lat, geolocation_lng\n",
    "\n",
    "FROM staging.customers\n",
    "\n",
    "INNER JOIN staging.geolocation ON geolocation.geolocation_zip_code_prefix = customers.customer_zip_code_prefix)"
   ]
  },
  {
   "cell_type": "markdown",
   "id": "12b0af64",
   "metadata": {},
   "source": [
    "# Dim Product"
   ]
  },
  {
   "cell_type": "code",
   "execution_count": 2,
   "id": "1fde0f3e",
   "metadata": {},
   "outputs": [
    {
     "name": "stderr",
     "output_type": "stream",
     "text": [
      "UsageError: Cell magic `%%sql` not found.\n"
     ]
    }
   ],
   "source": [
    "%%sql\n",
    "INSERT INTO core.dim_product(product_id, product_category, product_category_english)\n",
    "\n",
    "(SELECT product_id, products.product_category_name, product_category_name_english\n",
    "\n",
    "FROM staging.products\n",
    "\n",
    "LEFT JOIN staging.product_category_name_translation ON product_category_name_translation.product_category_name = products.product_category_name)"
   ]
  },
  {
   "cell_type": "markdown",
   "id": "0d87ad8b",
   "metadata": {},
   "source": [
    "# Dim Seller"
   ]
  },
  {
   "cell_type": "code",
   "execution_count": 3,
   "id": "b4452757",
   "metadata": {},
   "outputs": [
    {
     "name": "stderr",
     "output_type": "stream",
     "text": [
      "UsageError: Cell magic `%%sql` not found.\n"
     ]
    }
   ],
   "source": [
    "%%sql\n",
    "INSERT INTO core.dim_seller(seller_id, seller_city, seller_state, seller_zip_code_prefix, seller_geolocation_lon, seller_geolocation_lat)\n",
    "\n",
    "(SELECT seller_id, seller_city, seller_state, seller_zip_code_prefix, geolocation_lng, geolocation_lat\n",
    "\n",
    "FROM staging.sellers\n",
    "\n",
    "LEFT JOIN staging.geolocation ON geolocation.geolocation_zip_code_prefix = sellers.seller_zip_code_prefix)"
   ]
  },
  {
   "cell_type": "markdown",
   "id": "5129a103",
   "metadata": {},
   "source": [
    "# Dim Date"
   ]
  },
  {
   "cell_type": "code",
   "execution_count": 4,
   "id": "f0ef37ad",
   "metadata": {},
   "outputs": [
    {
     "name": "stderr",
     "output_type": "stream",
     "text": [
      "UsageError: Cell magic `%%sql` not found.\n"
     ]
    }
   ],
   "source": [
    "%%sql\n",
    "INSERT INTO core.dim_date(\"date\",\"year\",\"month\",\"monthname\",\"day\",\"dayofyear\",\"weekdayname\",\"calendarweek\",\n",
    "  \t\t\t\t\t\t\t\"formatteddate\",\"quartal\",\"yearquartal\",\"yearmonth\",\"yearcalendarweek\", \"monthstart\",\"monthend\")\n",
    " (SELECT\n",
    "\t--dwh_date_id,\n",
    "\tdatum as Date,\n",
    "\textract(year from \"datum\") AS Year,\n",
    "\textract(month from \"datum\") AS Month,\n",
    "\t-- Localized month name\n",
    "\tto_char(\"date\", 'TMMonth') AS MonthName,\n",
    "\textract(day from datum) AS Day,\n",
    "\textract(doy from datum) AS DayOfYear,\n",
    "\t-- Localized weekday\n",
    "\tto_char(\"date\", 'TMDay') AS WeekdayName,\n",
    "\t-- ISO calendar week\n",
    "\textract(week from datum) AS CalendarWeek,\n",
    "\tto_char(datum, 'dd. mm. yyyy') AS FormattedDate,\n",
    "\t'Q' || to_char(datum, 'Q') AS Quartal,\n",
    "\tto_char(\"date\", 'yyyy/\"Q\"Q') AS YearQuartal,\n",
    "\tto_char(\"date\", 'yyyy/mm') AS YearMonth,\n",
    "\t-- ISO calendar year and week\n",
    "\tto_char(\"date\", 'iyyy/IW') AS YearCalendarWeek,\n",
    "\n",
    "\t-- Start and end of the month of this date\n",
    "\t\"datum\" + (1 - extract(day from datum))::integer AS MonthStart,\n",
    "\t(\"datum\" + (1 - extract(day from datum))::integer + '1 month'::interval)::date - '1 day'::interval AS MonthEnd\n",
    "FROM (\n",
    "\t-- There are 3 leap years in this range, so calculate 365 * 10 + 3 records\n",
    "\tSELECT SEQUENCE.day + 1 dwh_date_id, '2016-09-15'::DATE + sequence.day AS \"datum\"\n",
    "\tFROM generate_series(0,2190) AS sequence(day)\n",
    "\tGROUP BY sequence.day\n",
    "     ) DQ\n",
    "order by 1);"
   ]
  },
  {
   "cell_type": "markdown",
   "id": "e71a785a",
   "metadata": {},
   "source": [
    "# Dim Time"
   ]
  },
  {
   "cell_type": "code",
   "execution_count": 5,
   "id": "0bef0cf2",
   "metadata": {},
   "outputs": [
    {
     "name": "stderr",
     "output_type": "stream",
     "text": [
      "UsageError: Cell magic `%%sql` not found.\n"
     ]
    }
   ],
   "source": [
    "%%sql\n",
    "INSERT INTO core.dim_time(dwh_time_id,timeofday,hour,quarterhour,minute,minute_of_day,daytimename,daynight)\n",
    "(SELECT \n",
    "\tdwh_time_id,\n",
    "\tto_char(minute, 'hh24:mi') AS TimeOfDay,\n",
    "\t-- Hour of the day (0 - 23)\n",
    "\textract(hour from minute) as Hour, \n",
    "\t-- Extract and format quarter hours\n",
    "\tto_char(minute - (extract(minute from minute)::integer % 15 || 'minutes')::interval, 'hh24:mi') ||\n",
    "\t' – ' ||\n",
    "\tto_char(minute - (extract(minute from minute)::integer % 15 || 'minutes')::interval + '14 minutes'::interval, 'hh24:mi')\n",
    "\t\tas QuarterHour,\n",
    "\tEXTRACT(MINUTE FROM MINUTE)::INTEGER AS \"minute\",\n",
    "\t-- Minute of the day (0 - 1439)\n",
    "\textract(hour from minute)*60 + extract(minute from minute) as minute_of_day,\n",
    "\t-- Names of day periods\n",
    "\tcase when to_char(minute, 'hh24:mi') between '06:00' and '08:29'\n",
    "\t\tthen 'Morning'\n",
    "\t     when to_char(minute, 'hh24:mi') between '08:30' and '11:59'\n",
    "\t\tthen 'AM'\n",
    "\t     when to_char(minute, 'hh24:mi') between '12:00' and '17:59'\n",
    "\t\tthen 'PM'\n",
    "\t     when to_char(minute, 'hh24:mi') between '18:00' and '22:29'\n",
    "\t\tthen 'Evening'\n",
    "\t     else 'Night'\n",
    "\tend as DaytimeName,\n",
    "\t-- Indicator of day or night\n",
    "\tcase when to_char(minute, 'hh24:mi') between '07:00' and '19:59' then 'Day'\n",
    "\t     else 'Night'\n",
    "\tend AS DayNight\n",
    "from (SELECT SEQUENCE.minute +1 dwh_time_id, '0:00'::time + (sequence.minute || ' minutes')::interval AS minute\n",
    "\tFROM generate_series(0,1439) AS sequence(minute)\n",
    "\tGROUP BY sequence.minute\n",
    "     ) DQ\n",
    "order by 1)"
   ]
  },
  {
   "cell_type": "markdown",
   "id": "84498770",
   "metadata": {},
   "source": [
    "# F_Orders"
   ]
  },
  {
   "cell_type": "code",
   "execution_count": 6,
   "id": "8a8ca708",
   "metadata": {},
   "outputs": [
    {
     "name": "stderr",
     "output_type": "stream",
     "text": [
      "UsageError: Cell magic `%%sql` not found.\n"
     ]
    }
   ],
   "source": [
    "%%sql\n",
    "INSERT INTO core.f_orders(dwh_date_id, dwh_time_id, order_id, dwh_product_id, dwh_seller_id, dwh_customer_id, order_product_price, oder_product_amount)\n",
    "\n",
    "WITH facts AS \n",
    "\n",
    "(SELECT order_items.order_id, orders.order_approved_at, orders.customer_id, order_items.product_id, order_items.seller_id, price, freight_value, 1 \"amount\"\n",
    "\n",
    "FROM staging.order_items\n",
    "\n",
    "LEFT JOIN staging.orders ON orders.order_id = order_items.order_id\n",
    "  \n",
    "WHERE orders.order_approved_at IS NOT NULL\n",
    "  \tAND order_status NOT IN ('unavailable', 'canceled')\n",
    ")\n",
    "\n",
    "SELECT dwh_date_id, dwh_time_id, order_id, dwh_product_id, dwh_seller_id, dwh_customer_id, price order_product_price, freight_value order_product_freight_value, amount order_product_amount\n",
    "\n",
    "FROM facts\n",
    "\n",
    "\n",
    "LEFT JOIN core.dim_customer ON dim_customer.customer_id = facts.customer_id\n",
    "\n",
    "LEFT JOIN core.dim_product ON dim_product.product_id = facts.product_id \n",
    "\n",
    "LEFT JOIN core.dim_seller ON dim_seller.seller_id = facts.seller_id\n",
    "\n",
    "LEFT JOIN core.dim_date ON (dim_date.day = EXTRACT(DAY FROM facts.order_approved_at)\n",
    "  \t\t\t\t\t\t\tAND dim_date.month = EXTRACT(MONTH FROM facts.order_approved_at)\n",
    "  \t\t\t\t\t\t\tAND dim_date.year = EXTRACT(YEAR FROM facts.order_approved_at))\n",
    "                            \n",
    "LEFT JOIN core.dim_time ON (dim_time.hour = EXTRACT(HOUR from facts.order_approved_at)\n",
    "  \t\t\t\t\t\t\tAND dim_time.minute = EXTRACT(minute FROM facts.order_approved_at))"
   ]
  }
 ],
 "metadata": {
  "kernelspec": {
   "display_name": "Python 3 (ipykernel)",
   "language": "python",
   "name": "python3"
  },
  "language_info": {
   "codemirror_mode": {
    "name": "ipython",
    "version": 3
   },
   "file_extension": ".py",
   "mimetype": "text/x-python",
   "name": "python",
   "nbconvert_exporter": "python",
   "pygments_lexer": "ipython3",
   "version": "3.8.5"
  }
 },
 "nbformat": 4,
 "nbformat_minor": 5
}
